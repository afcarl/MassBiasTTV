{
 "cells": [
  {
   "cell_type": "code",
   "execution_count": 2,
   "metadata": {
    "collapsed": true
   },
   "outputs": [],
   "source": [
    "import numpy as np\n",
    "import matplotlib.pyplot as plt \n",
    "%matplotlib inline\n",
    "import glob"
   ]
  },
  {
   "cell_type": "code",
   "execution_count": 3,
   "metadata": {
    "collapsed": true
   },
   "outputs": [],
   "source": [
    "avglist0 = glob.glob('AVGoutput_param0_masstestpal_*')\n",
    "varlist0 = glob.glob('VARoutput_param0_masstestpal_*')\n",
    "avglist1 = glob.glob('AVGoutput_param1_masstestpal_*')\n",
    "varlist1 = glob.glob('VARoutput_param1_masstestpal_*')\n",
    "avglist7 = glob.glob('AVGoutput_param7_masstestpal_*')\n",
    "varlist7 = glob.glob('VARoutput_param7_masstestpal_*')\n",
    "avglist8 = glob.glob('AVGoutput_param8_masstestpal_*')\n",
    "varlist8 = glob.glob('VARoutput_param8_masstestpal_*')\n",
    "#print sorted(avglist)\n",
    "#print sorted(varlist)"
   ]
  },
  {
   "cell_type": "code",
   "execution_count": 4,
   "metadata": {
    "collapsed": true
   },
   "outputs": [],
   "source": [
    "np_avgs0 = []\n",
    "np_vars0 = []\n",
    "np_avgs1 = []\n",
    "np_vars1 = []\n",
    "np_avgs7 = []\n",
    "np_vars7 = []\n",
    "np_avgs8 = []\n",
    "np_vars8 = []\n",
    "for i in range(len(avglist0)):\n",
    "    np_avgs0.append(np.load(sorted(avglist0)[i]))\n",
    "    np_vars0.append(np.load(sorted(varlist0)[i]))\n",
    "    np_avgs1.append(np.load(sorted(avglist1)[i]))\n",
    "    np_vars1.append(np.load(sorted(varlist1)[i]))\n",
    "    np_avgs7.append(np.load(sorted(avglist7)[i]))\n",
    "    np_vars7.append(np.load(sorted(varlist7)[i]))\n",
    "    np_avgs8.append(np.load(sorted(avglist8)[i]))\n",
    "    np_vars8.append(np.load(sorted(varlist8)[i]))"
   ]
  },
  {
   "cell_type": "code",
   "execution_count": 5,
   "metadata": {
    "collapsed": true
   },
   "outputs": [],
   "source": [
    "#print sorted(avglist)"
   ]
  },
  {
   "cell_type": "code",
   "execution_count": 6,
   "metadata": {
    "collapsed": true
   },
   "outputs": [],
   "source": [
    "def plot_single_histo(avg_list, var_list, true_value):\n",
    "    fig = plt.figure(figsize=(10,6))\n",
    "    n, bins, patches = plt.hist(avg_list, 30, facecolor='green', alpha=1.)\n",
    "    plt.axvline(x=true_value, color='red')\n",
    "    STD = np.sqrt(np.average(var_list))\n",
    "    plt.errorbar(x=true_value, y=2, xerr=STD)\n",
    "    plt.axvline(x=np.median(avg_list), color='blue')\n",
    "    plt.axvline(x=np.average(avg_list), color='yellow')\n",
    "    plt.grid()\n",
    "    plt.xlabel('Average Param')\n",
    "    plt.ylabel('Frequency')\n",
    "    print (true_value - np.average(avg_list))/true_value\n",
    "    plt.show()\n",
    "    \n",
    "def plot_avg_vs_var(avg_list, var_list, true_value, axis_scale):\n",
    "    fig = plt.figure(figsize=(10,6))\n",
    "    std = np.sqrt(var_list)\n",
    "    plt.axvline(x=true_value, color='red')\n",
    "    plt.scatter(avg_list, std)\n",
    "    plt.xlim(np.amin(avg_list)*(1-axis_scale), np.amax(avg_list)*(1+axis_scale))\n",
    "    plt.ylim(np.amin(std)*(1-axis_scale), np.amax(std)*(1+axis_scale))\n",
    "    plt.grid()\n",
    "    plt.xlabel('Average Param')\n",
    "    plt.ylabel('STD')\n",
    "    plt.show()\n",
    "    \n",
    "def to_eioo_coord(params):\n",
    "    inner1 = np.sqrt(((params[4]*params[4])+(params[3]*params[3]))/4.)\n",
    "    inner2 = np.sqrt(((params[4+7]*params[4+7])+(params[3+7]*params[3+7]))/4.)\n",
    "    inner1, inner2 = np.clip(inner1, -1., 1.), np.clip(inner2, -1., 1.) \n",
    "    i1 = 2.*np.arcsin(inner1)*(180./np.pi)\n",
    "    Ome1 = np.arctan2(params[4], params[3])*(180./np.pi)\n",
    "    i2 = 2.*np.arcsin(inner2)*(180./np.pi)\n",
    "    Ome2 = np.arctan2(params[4+7], params[3+7])*(180./np.pi)    \n",
    "    params[3], params[4], params[3+7], params[4+7] = i1, Ome1, i2, Ome2\n",
    "    \n",
    "    e1 = np.sqrt(params[2]*params[2] + params[5]*params[5])\n",
    "    ome1 = np.arctan2(params[5], params[2])*(180./np.pi) - Ome1\n",
    "    e2 = np.sqrt(params[2+7]*params[2+7] + params[5+7]*params[5+7])\n",
    "    ome2 = np.arctan2(params[5+7], params[2+7])*(180./np.pi) - Ome2\n",
    "    params[2], params[5], params[2+7], params[5+7],  = e1, ome1, e2, ome2\n",
    "\n",
    "    \n",
    "def to_pal_coord(p1te, p2te):\n",
    "    ix1 = 2*np.sin((np.pi/180.)*p1te[3]/2.)*np.cos(p1te[4]*(np.pi/180.))\n",
    "    iy1 = 2*np.sin((np.pi/180.)*p1te[3]/2.)*np.sin(p1te[4]*(np.pi/180.))\n",
    "    ix2 = 2*np.sin((np.pi/180.)*p2te[3]/2.)*np.cos(p2te[4]*(np.pi/180.))\n",
    "    iy2 = 2*np.sin((np.pi/180.)*p2te[3]/2.)*np.sin(p2te[4]*(np.pi/180.))\n",
    "    k1 = p1te[2] * np.cos(p1te[4]*(np.pi/180.) + p1te[5]*(np.pi/180.))\n",
    "    h1 = p1te[2] * np.sin(p1te[4]*(np.pi/180.) + p1te[5]*(np.pi/180.))\n",
    "    k2 = p2te[2] * np.cos(p2te[4]*(np.pi/180.) + p2te[5]*(np.pi/180.))\n",
    "    h2 = p2te[2] * np.sin(p2te[4]*(np.pi/180.) + p2te[5]*(np.pi/180.))\n",
    "    p1te[3], p1te[4] = ix1, iy1\n",
    "    p2te[3], p2te[4] = ix2, iy2\n",
    "    p1te[2], p1te[5] = k1, h1\n",
    "    p2te[2], p2te[5] = k2, h2\n",
    "    \n",
    "#True values    \n",
    "p1 = [0.00002878248, 1.0917340278625494e+01, 5.6159310042858110e-02, 9.0921164935951211e+01, -1.1729336712101943e-18, 1.8094838714599581e+02, -8.7093652691581923e+01]\n",
    "p2 = [0.00061895914, 2.2266898036209028e+01, 5.6691301931178648e-02, 8.7598285693573246e+01, 4.6220554014026838e-01, 1.6437004273382669e+00, -1.9584857031843157e+01]\n",
    "pa1 = [0.00002878248, 1.0917340278625494e+01, 5.6159310042858110e-02, 9.0921164935951211e+01, -1.1729336712101943e-18, 1.8094838714599581e+02, -8.7093652691581923e+01]\n",
    "pa2 = [0.00061895914, 2.2266898036209028e+01, 5.6691301931178648e-02, 8.7598285693573246e+01, 4.6220554014026838e-01, 1.6437004273382669e+00, -1.9584857031843157e+01]\n",
    "to_pal_coord(pa1, pa2)\n"
   ]
  },
  {
   "cell_type": "code",
   "execution_count": 7,
   "metadata": {},
   "outputs": [
    {
     "name": "stdout",
     "output_type": "stream",
     "text": [
      "0.0123259746114\n"
     ]
    },
    {
     "data": {
      "image/png": "[encoded data removed]",
      "text/plain": [
       "<matplotlib.figure.Figure at 0x10cc77a10>"
      ]
     },
     "metadata": {},
     "output_type": "display_data"
    }
   ],
   "source": [
    "plot_single_histo(np_avgs0, np_vars0, p1[0])"
   ]
  },
  {
   "cell_type": "code",
   "execution_count": 8,
   "metadata": {},
   "outputs": [
    {
     "name": "stdout",
     "output_type": "stream",
     "text": [
      "-8.85444429129e-05\n"
     ]
    },
    {
     "data": {
      "image/png": "[encoded data removed]",
      "text/plain": [
       "<matplotlib.figure.Figure at 0x10fd06d90>"
      ]
     },
     "metadata": {},
     "output_type": "display_data"
    }
   ],
   "source": [
    "plot_single_histo(np_avgs1, np_vars1, p1[1])"
   ]
  },
  {
   "cell_type": "code",
   "execution_count": 9,
   "metadata": {},
   "outputs": [
    {
     "name": "stdout",
     "output_type": "stream",
     "text": [
      "-0.0944908674397\n"
     ]
    },
    {
     "data": {
      "image/png": "[encoded data removed]",
      "text/plain": [
       "<matplotlib.figure.Figure at 0x10fe5f610>"
      ]
     },
     "metadata": {},
     "output_type": "display_data"
    }
   ],
   "source": [
    "plot_single_histo(np_avgs7, np_vars7, p2[0])"
   ]
  },
  {
   "cell_type": "code",
   "execution_count": 10,
   "metadata": {},
   "outputs": [
    {
     "name": "stdout",
     "output_type": "stream",
     "text": [
      "2.9442795061e-05\n"
     ]
    },
    {
     "data": {
      "image/png": "[encoded data removed]",
      "text/plain": [
       "<matplotlib.figure.Figure at 0x10fa8f3d0>"
      ]
     },
     "metadata": {},
     "output_type": "display_data"
    }
   ],
   "source": [
    "plot_single_histo(np_avgs8, np_vars8, p2[1])"
   ]
  },
  {
   "cell_type": "code",
   "execution_count": 11,
   "metadata": {},
   "outputs": [
    {
     "ename": "NameError",
     "evalue": "name 'np_avgs' is not defined",
     "output_type": "error",
     "traceback": [
      "\u001b[0;31m---------------------------------------------------------------------------\u001b[0m",
      "\u001b[0;31mNameError\u001b[0m                                 Traceback (most recent call last)",
      "\u001b[0;32m<ipython-input-11-bc618ed5b707>\u001b[0m in \u001b[0;36m<module>\u001b[0;34m()\u001b[0m\n\u001b[1;32m      1\u001b[0m \u001b[0;31m#plot_avg_vs_var(np_avgs[0], np_vars[0], p1[0], 0.05)\u001b[0m\u001b[0;34m\u001b[0m\u001b[0;34m\u001b[0m\u001b[0m\n\u001b[0;32m----> 2\u001b[0;31m \u001b[0mplot_avg_vs_var\u001b[0m\u001b[0;34m(\u001b[0m\u001b[0mnp_avgs\u001b[0m\u001b[0;34m[\u001b[0m\u001b[0;36m1\u001b[0m\u001b[0;34m]\u001b[0m\u001b[0;34m,\u001b[0m \u001b[0mnp_vars\u001b[0m\u001b[0;34m[\u001b[0m\u001b[0;36m1\u001b[0m\u001b[0;34m]\u001b[0m\u001b[0;34m,\u001b[0m \u001b[0mp1\u001b[0m\u001b[0;34m[\u001b[0m\u001b[0;36m0\u001b[0m\u001b[0;34m]\u001b[0m\u001b[0;34m,\u001b[0m \u001b[0;36m0.05\u001b[0m\u001b[0;34m)\u001b[0m\u001b[0;34m\u001b[0m\u001b[0m\n\u001b[0m",
      "\u001b[0;31mNameError\u001b[0m: name 'np_avgs' is not defined"
     ]
    }
   ],
   "source": [
    "#plot_avg_vs_var(np_avgs[0], np_vars[0], p1[0], 0.05)\n",
    "plot_avg_vs_var(np_avgs[1], np_vars[1], p1[0], 0.05)"
   ]
  },
  {
   "cell_type": "code",
   "execution_count": null,
   "metadata": {
    "collapsed": true
   },
   "outputs": [],
   "source": [
    "#plot_avg_vs_var(np_avgs[2], np_vars[2], p1[1], 0.00005)\n",
    "plot_avg_vs_var(np_avgs[3], np_vars[3], p1[1], 0.00005)"
   ]
  },
  {
   "cell_type": "code",
   "execution_count": null,
   "metadata": {
    "collapsed": true
   },
   "outputs": [],
   "source": [
    "#plot_avg_vs_var(np_avgs[4], np_vars[4], p2[0], 0.005)\n",
    "plot_avg_vs_var(np_avgs[5], np_vars[5], p2[0], 0.005)"
   ]
  },
  {
   "cell_type": "code",
   "execution_count": null,
   "metadata": {
    "collapsed": true
   },
   "outputs": [],
   "source": [
    "#plot_avg_vs_var(np_avgs[6], np_vars[6], p2[1], 0.000005)\n",
    "plot_avg_vs_var(np_avgs[7], np_vars[7], p2[1], 0.000005)"
   ]
  },
  {
   "cell_type": "code",
   "execution_count": null,
   "metadata": {
    "collapsed": true
   },
   "outputs": [],
   "source": []
  },
  {
   "cell_type": "code",
   "execution_count": 1,
   "metadata": {},
   "outputs": [
    {
     "name": "stdout",
     "output_type": "stream",
     "text": [
      "/Users/reboundmacbook/Documents/ttvmassbias_messy_newln_pri\n"
     ]
    }
   ],
   "source": [
    "import os\n",
    "cwd = os.getcwd()\n",
    "print cwd"
   ]
  },
  {
   "cell_type": "code",
   "execution_count": null,
   "metadata": {
    "collapsed": true
   },
   "outputs": [],
   "source": []
  }
 ],
 "metadata": {
  "kernelspec": {
   "display_name": "Python 2",
   "language": "python",
   "name": "python2"
  },
  "language_info": {
   "codemirror_mode": {
    "name": "ipython",
    "version": 2
   },
   "file_extension": ".py",
   "mimetype": "text/x-python",
   "name": "python",
   "nbconvert_exporter": "python",
   "pygments_lexer": "ipython2",
   "version": "2.7.13"
  }
 },
 "nbformat": 4,
 "nbformat_minor": 2
}
