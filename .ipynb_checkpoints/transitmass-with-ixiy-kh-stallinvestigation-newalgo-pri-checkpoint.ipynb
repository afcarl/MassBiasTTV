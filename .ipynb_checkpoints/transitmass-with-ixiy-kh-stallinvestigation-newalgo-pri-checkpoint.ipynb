{
 "cells": [
  {
   "cell_type": "code",
   "execution_count": 10,
   "metadata": {
    "collapsed": true
   },
   "outputs": [],
   "source": [
    "import subprocess\n",
    "import numpy as np\n",
    "import corner\n",
    "import emcee\n",
    "import ttvfast\n",
    "%matplotlib inline\n",
    "import matplotlib.pyplot as plt\n",
    "\n",
    "from datetime import datetime\n",
    "import os"
   ]
  },
  {
   "cell_type": "code",
   "execution_count": 11,
   "metadata": {
    "collapsed": true
   },
   "outputs": [],
   "source": [
    "def to_eioo_coord(params):\n",
    "    inner1 = np.sqrt(((params[4]*params[4])+(params[3]*params[3]))/4.)\n",
    "    inner2 = np.sqrt(((params[4+7]*params[4+7])+(params[3+7]*params[3+7]))/4.)\n",
    "    inner1, inner2 = np.clip(inner1, -1., 1.), np.clip(inner2, -1., 1.) \n",
    "    i1 = 2.*np.arcsin(inner1)*(180./np.pi)\n",
    "    Ome1 = np.arctan2(params[4], params[3])*(180./np.pi)\n",
    "    i2 = 2.*np.arcsin(inner2)*(180./np.pi)\n",
    "    Ome2 = np.arctan2(params[4+7], params[3+7])*(180./np.pi)    \n",
    "    params[3], params[4], params[3+7], params[4+7] = i1, Ome1, i2, Ome2\n",
    "    \n",
    "    e1 = np.sqrt(params[2]*params[2] + params[5]*params[5])\n",
    "    ome1 = np.arctan2(params[5], params[2])*(180./np.pi) - Ome1\n",
    "    e2 = np.sqrt(params[2+7]*params[2+7] + params[5+7]*params[5+7])\n",
    "    ome2 = np.arctan2(params[5+7], params[2+7])*(180./np.pi) - Ome2\n",
    "    params[2], params[5], params[2+7], params[5+7],  = e1, ome1, e2, ome2\n",
    "\n",
    "    \n",
    "def to_pal_coord(p1te, p2te):\n",
    "    ix1 = 2*np.sin((np.pi/180.)*p1te[3]/2.)*np.cos(p1te[4]*(np.pi/180.))\n",
    "    iy1 = 2*np.sin((np.pi/180.)*p1te[3]/2.)*np.sin(p1te[4]*(np.pi/180.))\n",
    "    ix2 = 2*np.sin((np.pi/180.)*p2te[3]/2.)*np.cos(p2te[4]*(np.pi/180.))\n",
    "    iy2 = 2*np.sin((np.pi/180.)*p2te[3]/2.)*np.sin(p2te[4]*(np.pi/180.))\n",
    "    k1 = p1te[2] * np.cos(p1te[4]*(np.pi/180.) + p1te[5]*(np.pi/180.))\n",
    "    h1 = p1te[2] * np.sin(p1te[4]*(np.pi/180.) + p1te[5]*(np.pi/180.))\n",
    "    k2 = p2te[2] * np.cos(p2te[4]*(np.pi/180.) + p2te[5]*(np.pi/180.))\n",
    "    h2 = p2te[2] * np.sin(p2te[4]*(np.pi/180.) + p2te[5]*(np.pi/180.))\n",
    "    p1te[3], p1te[4] = ix1, iy1\n",
    "    p2te[3], p2te[4] = ix2, iy2\n",
    "    p1te[2], p1te[5] = k1, h1\n",
    "    p2te[2], p2te[5] = k2, h2\n",
    "\n",
    "timestart = -200\n",
    "timeend = 287\n",
    "    \n",
    "def get_times(params):\n",
    "    #to_eioo_coord(params)\n",
    "    #p1te, p2te = params[0:len(params)//2], params[len(params)//2:]\n",
    "    par_copy = list(params)\n",
    "    to_eioo_coord(par_copy)\n",
    "    p1te, p2te = par_copy[0:len(par_copy)//2], par_copy[len(par_copy)//2:]\n",
    "    starm = 0.95573417954\n",
    "    p1m = ttvfast.models.Planet(*p1te)\n",
    "    p2m = ttvfast.models.Planet(*p2te)\n",
    "    results = ttvfast.ttvfast([p1m,p2m],starm,timestart,0.54,timeend)\n",
    "    integer_indices, epochs, times, rsky, vsky = results[\"positions\"]\n",
    "    integer_indices = np.array(integer_indices)\n",
    "    times = np.array(times)\n",
    "    vt = (times!=-2)\n",
    "    ####to_pal_coord(p1te, p2te)\n",
    "    ####params = np.concatenate((p1te,p2te), axis=0)\n",
    "    #print times[vt]\n",
    "    return  integer_indices[vt], times[vt]\n",
    "    #args = [\"./run_TTVFast\", \"setup_file\", \"out_file\"]\n",
    "    #subprocess.call(args,cwd=\"./TTVFast/c_version/\")"
   ]
  },
  {
   "cell_type": "code",
   "execution_count": 12,
   "metadata": {},
   "outputs": [
    {
     "name": "stdout",
     "output_type": "stream",
     "text": [
      "[  2.87824800e-05   1.09173403e+01   5.61593100e-02   9.09211649e+01\n",
      "  -1.17293367e-18  -1.79051613e+02  -8.70936527e+01   6.18959140e-04\n",
      "   2.22668980e+01   5.66913019e-02   8.75982857e+01   4.62205540e-01\n",
      "   1.64370043e+00  -1.95848570e+01]\n",
      "[  2.87824800e-05   1.09173403e+01  -5.61516168e-02   1.42553616e+00\n",
      "  -2.91829411e-20  -9.29533312e-04  -8.70936527e+01   6.18959140e-04\n",
      "   2.22668980e+01   5.66530133e-02   1.38421971e+00   1.11667544e-02\n",
      "   2.08321928e-03  -1.95848570e+01]\n",
      "[-199.92170726 -193.72508801 -188.99501028 -178.07215984 -171.45973414\n",
      " -167.14811227 -156.229004   -149.19414358 -145.30740352 -134.39115294\n",
      " -126.92842514 -123.47211828 -112.55817073 -104.66262484 -101.6419364\n",
      "  -90.7298655   -82.39675375  -79.81659049  -68.90590607  -60.13082231\n",
      "  -57.99545942  -47.08537482  -37.86487523  -36.17709764  -25.26639012\n",
      "  -15.59902719  -14.35897068   -3.44580279    6.66651244    7.46288576\n",
      "   18.38093864   28.9314236    29.2938288    40.21965082   51.1403207\n",
      "   51.19527858   62.07692191   73.0092377    73.45758298   83.95921571\n",
      "   94.90672032   95.71787324  105.87167058  116.83680321  117.97583315\n",
      "  127.81690496  138.80041601  140.23137995  149.79421654  160.79490735\n",
      "  162.48470098  171.79951171  182.81440423  184.73623109  193.82587067\n",
      "  204.85070045  206.9865887   215.86446299  226.89420383  229.23650377\n",
      "  237.90548659  248.93477004  251.48675303  259.93901412  270.96250289\n",
      "  273.73810158  281.9558132 ]\n",
      "[-188.99501028 -178.07215984 -171.45973414 -167.14811227 -156.229004\n",
      " -149.19414358 -145.30740352 -134.39115294 -126.92842514 -123.47211828\n",
      " -112.55817073 -104.66262484 -101.6419364   -90.7298655   -82.39675375\n",
      "  -79.81659049  -68.90590607  -60.13082231  -57.99545942  -47.08537482\n",
      "  -37.86487523  -36.17709764  -25.26639012  -15.59902719  -14.35897068\n",
      "   -3.44580279    6.66651244    7.46288576   18.38093864   28.9314236\n",
      "   29.2938288    40.21965082   51.1403207    51.19527858   62.07692191\n",
      "   73.0092377    73.45758298   83.95921571   94.90672032   95.71787324\n",
      "  105.87167058  116.83680321  117.97583315  127.81690496  138.80041601\n",
      "  140.23137995  149.79421654  160.79490735  162.48470098  171.79951171\n",
      "  182.81440423  184.73623109  193.82587067  204.85070045  206.9865887\n",
      "  215.86446299  226.89420383  229.23650377  237.90548659  248.93477004\n",
      "  251.48675303  259.93901412  270.96250289]\n"
     ]
    }
   ],
   "source": [
    "# True values\n",
    "error = 0.05 # ~1 hour\n",
    "p1 = [0.00002878248, 1.0917340278625494e+01, 5.6159310042858110e-02, 9.0921164935951211e+01, -1.1729336712101943e-18, 1.8094838714599581e+02, -8.7093652691581923e+01]\n",
    "p2 = [0.00061895914, 2.2266898036209028e+01, 5.6691301931178648e-02, 8.7598285693573246e+01, 4.6220554014026838e-01, 1.6437004273382669e+00, -1.9584857031843157e+01]\n",
    "truth_eioo = np.copy(p1+p2)\n",
    "truth_eioo[5] -=360\n",
    "to_pal_coord(p1, p2)\n",
    "truth_pal = np.copy(p1+p2)\n",
    "print truth_eioo\n",
    "print truth_pal\n",
    "integer_indices, times = get_times(p1+p2)\n",
    "integer_indices = integer_indices[2:-2]\n",
    "print times\n",
    "times = times[2:-2]\n",
    "p1t = times[(integer_indices==0)]\n",
    "p2t = times[(integer_indices==1)]\n",
    "print times\n",
    "p1tpe = p1t + np.random.normal(scale=error,size=len(p1t))\n",
    "p2tpe = p2t + np.random.normal(scale=error,size=len(p2t))"
   ]
  },
  {
   "cell_type": "markdown",
   "metadata": {},
   "source": [
    "# LNPROB FOUND HERE"
   ]
  },
  {
   "cell_type": "code",
   "execution_count": 13,
   "metadata": {
    "collapsed": true,
    "scrolled": true
   },
   "outputs": [],
   "source": [
    "def lnprob(param):\n",
    "    if(param[0]<0.0 or param[7]<0.0):\n",
    "        return -np.inf\n",
    "    integer_indices,times = get_times(param)\n",
    "    p1nt = times[(integer_indices==0)]\n",
    "    p2nt = times[(integer_indices==1)]\n",
    "    l = 0.\n",
    "    transit_count = 0    \n",
    "    quarter_period = 0.25*10.5\n",
    "    for i, obst in enumerate(p1tpe):\n",
    "        mint = 100000000.0\n",
    "        try:\n",
    "            for k in range(3):\n",
    "                d = abs(p1nt[i+k]-obst)\n",
    "                mint = min(d, mint)\n",
    "            if mint>quarter_period:    \n",
    "                raise Exception(\"not found\")\n",
    "        except:\n",
    "            for simt in p1nt:\n",
    "                d = abs(simt-obst)\n",
    "                mint = min(d, mint)\n",
    "                if mint<quarter_period:\n",
    "                    break\n",
    "        if(mint < quarter_period): \n",
    "            l += (mint/error)**2\n",
    "            transit_count += 1\n",
    "        elif(mint < 2.4*quarter_period):\n",
    "            return -np.inf\n",
    "        else:\n",
    "            pass\n",
    "    if(transit_count != len(p1tpe)):\n",
    "        return -np.inf\n",
    "    transit_count = 0\n",
    "    quarter_period = 0.25*20.5 #20.5 is apprx. period of p1\n",
    "    for i, obst in enumerate(p2tpe):\n",
    "        mint = 100000000.0\n",
    "        try:\n",
    "            for k in range(3):\n",
    "                d = abs(p2nt[i+k]-obst)\n",
    "                mint = min(d, mint)\n",
    "            if mint>quarter_period:    \n",
    "                raise Exception(\"not found\")\n",
    "        except:\n",
    "            for simt in p2nt:\n",
    "                d = abs(simt-obst)\n",
    "                mint = min(d, mint)\n",
    "                if mint<quarter_period:\n",
    "                    break\n",
    "        if(mint < 2.4*quarter_period):\n",
    "            l += (mint/error)**2\n",
    "            transit_count +=1\n",
    "        elif(mint < 0.6*20.5):\n",
    "            return -np.inf\n",
    "        else:\n",
    "            pass\n",
    "    if(transit_count != len(p2tpe)):\n",
    "        return -np.inf\n",
    "    return -l"
   ]
  },
  {
   "cell_type": "code",
   "execution_count": 14,
   "metadata": {
    "collapsed": true
   },
   "outputs": [],
   "source": [
    "def getTTV(param):\n",
    "    times = get_times(param)\n",
    "    integer_indices,times = get_times(param)\n",
    "    p1nt = times[(integer_indices==0)]\n",
    "    p2nt = times[(integer_indices==1)]\n",
    "    l = 0.\n",
    "    i = 0\n",
    "    ds1 = []\n",
    "    for t in p1nt:\n",
    "        if i<len(p1tpe)-1:\n",
    "            if abs(p1tpe[i+1]-t) < abs(p1tpe[i]-t):\n",
    "                i += 1\n",
    "        d = p1tpe[i] - t\n",
    "        if np.abs(d)<5.:\n",
    "            ds1.append(d)\n",
    "    i = 0 \n",
    "    ds2 = []\n",
    "    for t in p2nt:        \n",
    "        if i<len(p2tpe)-1:\n",
    "            if abs(p2tpe[i+1]-t) < abs(p2tpe[i]-t):\n",
    "                i += 1\n",
    "        d = p2tpe[i] - t\n",
    "        if np.abs(d)<5.:\n",
    "            ds2.append(d)\n",
    "    return ds1,ds2"
   ]
  },
  {
   "cell_type": "code",
   "execution_count": null,
   "metadata": {
    "scrolled": true
   },
   "outputs": [
    {
     "name": "stdout",
     "output_type": "stream",
     "text": [
      "2017-12-04 14:34:30.569975\n"
     ]
    }
   ],
   "source": [
    "#np.random.seed(101100) #10 minutes to fail apprx.\n",
    "#np.random.seed(11) # 3 minutes to fail apprx.\n",
    "np.random.seed(77)\n",
    "nwalkers = 64\n",
    "nvar = 14\n",
    "nsteps = 320\n",
    "sampler = emcee.EnsembleSampler(nwalkers, nvar, lnprob)\n",
    "pos0 = []\n",
    "scale = 0.00001\n",
    "for i in range(nwalkers):\n",
    "    ps = []\n",
    "    for p in [p1,p2]:\n",
    "        ps.append(np.random.normal(p[0],p[0]*scale*1e-2)) # mass\n",
    "        ps.append(np.random.normal(p[1],p[1]*scale*1e-2)) # period\n",
    "        ps.append(np.random.normal(p[2],np.abs(p[2]*scale*1e-2))) # e\n",
    "        ps.append(np.random.normal(p[3],np.abs(p[3]*scale*1e-3))) # inc\n",
    "        ps.append(np.random.normal(p[4],np.pi*scale*2.*1e-3)) #\n",
    "        ps.append(np.random.normal(p[5],np.pi*scale*2.*1e-3)) #\n",
    "        ps.append(np.random.normal(p[6],np.pi*scale*2.*1e-3)) #\n",
    "    pos0.append(ps)\n",
    "    #print lnprob(ps)\n",
    "print datetime.now()\n",
    "for i, result in enumerate(sampler.sample(pos0, iterations=nsteps)):\n",
    "    if (i+1) % 80 == 0:\n",
    "        print(\"{0:5.1%}, Time: {tim}\".format(float(i) / nsteps, tim=datetime.now()))\n",
    "#r1, r2, r3 = sampler.run_mcmc(pos0,nsteps)\n",
    "print datetime.now()"
   ]
  },
  {
   "cell_type": "markdown",
   "metadata": {
    "scrolled": false
   },
   "source": [
    "Previously, doing 64*32000 steps took ~1.0 hour. Linear algrithm.\n",
    "Now 64*320*8 takes 23.3 minutes, thus 64*32000 would take 291 minutes -> ~4.85 hours"
   ]
  },
  {
   "cell_type": "code",
   "execution_count": null,
   "metadata": {
    "collapsed": true
   },
   "outputs": [],
   "source": [
    "nc = sampler.chain.reshape((nwalkers*nsteps,nvar))"
   ]
  },
  {
   "cell_type": "code",
   "execution_count": null,
   "metadata": {},
   "outputs": [],
   "source": [
    "fig, ax = plt.subplots(figsize=(10,5))\n",
    "logchain = sampler.lnprobability.T.reshape((nwalkers*nsteps))\n",
    "#logchain_start = logchain[:len(logchain)//2]\n",
    "logchain_start = logchain\n",
    "ax.scatter(np.linspace(0,len(logchain_start),len(logchain_start)),logchain_start,marker=\".\", color=\"darkblue\", alpha=\"0.07\");"
   ]
  },
  {
   "cell_type": "code",
   "execution_count": null,
   "metadata": {},
   "outputs": [],
   "source": []
  },
  {
   "cell_type": "code",
   "execution_count": null,
   "metadata": {},
   "outputs": [],
   "source": [
    "ncn= nc[len(nc)//2:]\n",
    "lab = ['m','P', 'k', 'ix', 'iy', 'h', 'M']*2\n",
    "corner.corner(ncn,truths=truth_pal, labels=lab);"
   ]
  },
  {
   "cell_type": "code",
   "execution_count": null,
   "metadata": {},
   "outputs": [],
   "source": []
  },
  {
   "cell_type": "code",
   "execution_count": null,
   "metadata": {
    "collapsed": true
   },
   "outputs": [],
   "source": []
  },
  {
   "cell_type": "code",
   "execution_count": null,
   "metadata": {
    "collapsed": true
   },
   "outputs": [],
   "source": []
  },
  {
   "cell_type": "code",
   "execution_count": null,
   "metadata": {
    "collapsed": true
   },
   "outputs": [],
   "source": []
  },
  {
   "cell_type": "markdown",
   "metadata": {
    "collapsed": true
   },
   "source": [
    "# Below is old code kept for reference.\n",
    "\n",
    "Plus TTV plots."
   ]
  },
  {
   "cell_type": "code",
   "execution_count": null,
   "metadata": {
    "collapsed": true
   },
   "outputs": [],
   "source": []
  },
  {
   "cell_type": "code",
   "execution_count": 41,
   "metadata": {
    "collapsed": true
   },
   "outputs": [],
   "source": [
    "def lnprob_debug(param):\n",
    "    #print \"Params passed to lnprob: {p}\".format(p=param)\n",
    "    #with open(\"lnprobloggin.txt\",'a') as f_handle:\n",
    "        #np.savetxt(f_handle, param, delimiter=',', newline=';')\n",
    "        #f_handle.write(\"\\n    ^ Params when entering lnprob.\\n\")\n",
    "        #f_handle.write(\"\\n\\n {a} \\n\\n\".format(a=globalvar))\n",
    "    integer_indices,times = get_times(param)\n",
    "        #np.savetxt(f_handle, times, delimiter=',', newline=';')\n",
    "        #f_handle.write(\"\\n    ^ Times given from TTVFast. Lenght={le} \\n\".format(le=len(times)))\n",
    "        #np.savetxt(f_handle, integer_indices, delimiter=',', newline=';')\n",
    "        #f_handle.write(\"\\n    ^ Integer_indices given from TTVFast.\\n\")\n",
    "    p1nt = times[(integer_indices==0)]\n",
    "    p2nt = times[(integer_indices==1)]\n",
    "    l = 0.    \n",
    "    i = 0 \n",
    "    for t in p1nt:\n",
    "        if i<len(p1tpe)-1:\n",
    "            if abs(p1tpe[i+1]-t) < abs(p1tpe[i]-t):\n",
    "                i += 1\n",
    "        d = p1tpe[i] - t\n",
    "        #if np.abs(d)<5.4:\n",
    "        l += d**2/error**2\n",
    "    i = 0 \n",
    "    for t in p2nt:        \n",
    "        if i<len(p2tpe)-1:\n",
    "            if abs(p2tpe[i+1]-t) < abs(p2tpe[i]-t):\n",
    "                i += 1\n",
    "        d = p2tpe[i] - t\n",
    "        #if np.abs(d)<5.4:\n",
    "        l += d**2/error**2\n",
    "    #np.savetxt(f_handle, [-l], delimiter=',', newline=';')\n",
    "    #f_handle.write(\"\\n    ^ -lnprob given from step.\\n Time recorded: {t}.\\n\\n\\n\\n\\n\".format(t=datetime.now()))\n",
    "    #f_handle.write(\"\\n WalkerID: {a} \\n\\n\\n\\n\\n\".format(a=globalvar))\n",
    "    #globalvar = globalvar + 1\n",
    "    #if(os.stat('lnprobloggin.txt').st_size > 5000000):\n",
    "    #    os.remove('lnprobloggin.txt')\n",
    "    #if(l==0.0):\n",
    "    #    return -np.inf\n",
    "    #The following conditions could be added at the start for a very minor speedup.\n",
    "    #np.abs(len(p1tpe)+len(p2tpe)+4 - len(p1nt) - len(p2nt))\n",
    "    print p1nt\n",
    "    print p2nt\n",
    "    print p1tpe\n",
    "    print p2tpe\n",
    "    if(np.abs(len(p1tpe)+len(p2tpe)+4 - len(p1nt) - len(p2nt)) >0):\n",
    "        return -np.inf\n",
    "    #if(np.abs(len(p2tpe)+4 - len(p2nt)) >0):\n",
    "    #    return -np.inf\n",
    "    #print len(p1tpe)+len(p2tpe)+4 - len(p1nt) - len(p2nt)\n",
    "    #if((len(p1tpe)+4 - len(p1nt)) == 0):\n",
    "    #    return -l\n",
    "    #else:\n",
    "    #    return -np.inf\n",
    "    return -l"
   ]
  },
  {
   "cell_type": "code",
   "execution_count": 7,
   "metadata": {},
   "outputs": [
    {
     "name": "stdout",
     "output_type": "stream",
     "text": [
      "[-159.92170877 -153.72508394 -148.99501174 -138.07216126 -131.45973033\n",
      " -127.14811362 -116.22900528 -109.19414003 -105.30740472  -94.39115405\n",
      "  -86.92842185  -83.4721193   -72.55817164  -64.66262182  -61.64193721\n",
      "  -50.72986618  -42.396751    -39.81659106  -28.9059065   -20.13081984\n",
      "  -17.99545972   -7.08537498    2.13512697    3.82290235   14.73361003\n",
      "   24.40097474   25.64102962   36.55419768   46.66651409   47.46288638\n",
      "   58.38093942   68.93142498   69.29382975   80.21965191   91.14032195\n",
      "   91.19527968  102.07692329  113.0092392   113.45758382  123.95921732\n",
      "  134.90672202  135.71787382  145.87167236  156.83680505  157.97583346\n",
      "  167.81690685  178.80041792  180.23138   ]\n",
      "startp1\n",
      "donep1\n",
      "25.922980909\n",
      "-36.2346584455\n"
     ]
    }
   ],
   "source": [
    "params = list(pos0[2])\n",
    "print lnprob(params)"
   ]
  },
  {
   "cell_type": "code",
   "execution_count": 9,
   "metadata": {
    "scrolled": true
   },
   "outputs": [
    {
     "name": "stdout",
     "output_type": "stream",
     "text": [
      "[1e-07, 10.917340358278054, -0.05615161324033281, 1.4255361624156015, -3.1233966927610314e-08, -0.0009295806917200805, -87.0936527508579, 0.0020189591700041465, 22.266897776191076, 0.056653024039813746, 1.3842197142100867, 0.011166879854816519, 0.002083156868679981, -19.58485701947788]\n",
      "[-159.92170816 -153.72486255 -148.97374239 -138.0398314  -131.45796991\n",
      " -127.10259387 -116.18565999 -109.19107574 -105.26087594  -94.36016967\n",
      "  -86.92418008  -83.4501919   -72.56539122  -64.65728284  -61.67277695\n",
      "  -50.80358684  -42.39038386  -39.930459    -29.0759584   -20.12348297\n",
      "  -18.22303075   -7.38066779    2.14341976    3.45402615   14.28943945\n",
      "   24.41032388   25.111852     35.94884383   46.76978506   46.67722828\n",
      "   57.61990291   68.45460109   68.94413107   79.33036119   90.19566131\n",
      "   91.21102989  101.10694594  112.01626479  113.4779228   122.96659501\n",
      "  133.92487176  135.74480902  144.90991938  155.91216936  158.01168926\n",
      "  166.92105407  177.95470851  180.27856539]\n",
      "startp1\n",
      "donep1\n",
      "2771356.98719\n",
      "-2772179.6421\n"
     ]
    }
   ],
   "source": [
    "#params = list(pos0[2])\n",
    "params[0] = 1.e-7\n",
    "params[7] += 0.0007\n",
    "print params\n",
    "print lnprob(params)"
   ]
  },
  {
   "cell_type": "code",
   "execution_count": 9,
   "metadata": {
    "collapsed": true
   },
   "outputs": [],
   "source": [
    "def ttv_from_times(t1_times):\n",
    "    import scipy.stats as stats\n",
    "    slope, intercept, r_value, p_value, std_err = stats.linregress(np.arange(len(t1_times)),t1_times)\n",
    "    print \"Results from linear regression are... Slope:{s}, Intercept:{i}, std_err:{std}, r_value:{r}, p_value:{p}\".format(s=slope,i=intercept,std=std_err,r=r_value,p=p_value)\n",
    "    diff = (np.arange(len(t1_times))*slope + intercept) - np.asarray(t1_times)\n",
    "    return t1_times, diff"
   ]
  },
  {
   "cell_type": "code",
   "execution_count": 10,
   "metadata": {
    "collapsed": true
   },
   "outputs": [],
   "source": [
    "params = list(pos0[2])\n",
    "params[0] -= 0.00005\n",
    "params[7] += 0.0007\n",
    "A, B = get_times(params)\n",
    "p1tpe = B[(A==0)]\n",
    "p2tpe = B[(A==1)]"
   ]
  },
  {
   "cell_type": "code",
   "execution_count": 11,
   "metadata": {},
   "outputs": [
    {
     "name": "stdout",
     "output_type": "stream",
     "text": [
      "Results from linear regression are... Slope:10.9028179736, Intercept:-159.846763554, std_err:0.00201242338276, r_value:0.999999488963, p_value:2.004431204e-91\n",
      "Results from linear regression are... Slope:22.2675433453, Intercept:-153.725312601, std_err:0.000160531057968, r_value:0.999999999636, p_value:2.26171692666e-65\n"
     ]
    }
   ],
   "source": [
    "t1, ttv1 = ttv_from_times(p1tpe)\n",
    "t2, ttv2 = ttv_from_times(p2tpe)"
   ]
  },
  {
   "cell_type": "code",
   "execution_count": 12,
   "metadata": {},
   "outputs": [
    {
     "data": {
      "text/plain": [
       "[<matplotlib.lines.Line2D at 0x117813590>]"
      ]
     },
     "execution_count": 12,
     "metadata": {},
     "output_type": "execute_result"
    },
    {
     "data": {
      "image/png": "[encoded data removed]",
      "text/plain": [
       "<matplotlib.figure.Figure at 0x1127cc4d0>"
      ]
     },
     "metadata": {},
     "output_type": "display_data"
    }
   ],
   "source": [
    "fig, ax = plt.subplots(2,1,figsize=(15,10))\n",
    "ax[0].plot(t1,ttv1, 'ro')\n",
    "ax[1].plot(t2,ttv2, 'ro')"
   ]
  },
  {
   "cell_type": "code",
   "execution_count": null,
   "metadata": {
    "collapsed": true
   },
   "outputs": [],
   "source": []
  },
  {
   "cell_type": "code",
   "execution_count": null,
   "metadata": {
    "collapsed": true
   },
   "outputs": [],
   "source": []
  },
  {
   "cell_type": "code",
   "execution_count": null,
   "metadata": {
    "collapsed": true
   },
   "outputs": [],
   "source": []
  },
  {
   "cell_type": "code",
   "execution_count": null,
   "metadata": {
    "collapsed": true
   },
   "outputs": [],
   "source": []
  },
  {
   "cell_type": "code",
   "execution_count": null,
   "metadata": {
    "collapsed": true
   },
   "outputs": [],
   "source": []
  },
  {
   "cell_type": "code",
   "execution_count": null,
   "metadata": {
    "collapsed": true
   },
   "outputs": [],
   "source": []
  },
  {
   "cell_type": "code",
   "execution_count": null,
   "metadata": {
    "collapsed": true
   },
   "outputs": [],
   "source": []
  },
  {
   "cell_type": "code",
   "execution_count": null,
   "metadata": {
    "collapsed": true
   },
   "outputs": [],
   "source": []
  },
  {
   "cell_type": "code",
   "execution_count": null,
   "metadata": {
    "collapsed": true
   },
   "outputs": [],
   "source": []
  },
  {
   "cell_type": "code",
   "execution_count": null,
   "metadata": {
    "collapsed": true
   },
   "outputs": [],
   "source": []
  },
  {
   "cell_type": "code",
   "execution_count": null,
   "metadata": {
    "collapsed": true
   },
   "outputs": [],
   "source": []
  },
  {
   "cell_type": "code",
   "execution_count": 90,
   "metadata": {
    "collapsed": true
   },
   "outputs": [],
   "source": [
    "def ttv_from_times(t1_times):\n",
    "    import scipy.stats as stats\n",
    "    slope, intercept, r_value, p_value, std_err = stats.linregress(np.arange(len(t1_times)),t1_times)\n",
    "    print \"Results from linear regression are... Slope:{s}, Intercept:{i}, std_err:{std}, r_value:{r}, p_value:{p}\".format(s=slope,i=intercept,std=std_err,r=r_value,p=p_value)\n",
    "    diff = (np.arange(len(t1_times))*slope + intercept) - np.asarray(t1_times)\n",
    "    return t1_times, diff"
   ]
  },
  {
   "cell_type": "code",
   "execution_count": 91,
   "metadata": {},
   "outputs": [
    {
     "name": "stdout",
     "output_type": "stream",
     "text": [
      "Results from linear regression are... Slope:10.954323912, Intercept:-189.430882196, std_err:0.000765013178024, r_value:0.999999697616, p_value:0.0\n",
      "Results from linear regression are... Slope:22.2599068404, Intercept:-171.432359151, std_err:0.00017410743167, r_value:0.999999998195, p_value:9.10232279416e-251\n"
     ]
    }
   ],
   "source": [
    "t1, ttv1 = ttv_from_times(p1tpe)\n",
    "t2, ttv2 = ttv_from_times(p2tpe)"
   ]
  },
  {
   "cell_type": "code",
   "execution_count": 92,
   "metadata": {},
   "outputs": [
    {
     "data": {
      "text/plain": [
       "[<matplotlib.lines.Line2D at 0x1123c1110>]"
      ]
     },
     "execution_count": 92,
     "metadata": {},
     "output_type": "execute_result"
    },
    {
     "data": {
      "image/png": "[encoded data removed]",
      "text/plain": [
       "<matplotlib.figure.Figure at 0x1123eb310>"
      ]
     },
     "metadata": {},
     "output_type": "display_data"
    }
   ],
   "source": [
    "fig, ax = plt.subplots(2,1,figsize=(15,10))\n",
    "ax[0].plot(t1,ttv1, 'ro')\n",
    "ax[1].plot(t2,ttv2, 'ro')"
   ]
  },
  {
   "cell_type": "code",
   "execution_count": 102,
   "metadata": {},
   "outputs": [
    {
     "name": "stdout",
     "output_type": "stream",
     "text": [
      "Results from linear regression are... Slope:10.9178099415, Intercept:-144.002052791, std_err:0.00100532730704, r_value:0.999999885534, p_value:3.45374290335e-91\n",
      "Results from linear regression are... Slope:22.2652778973, Intercept:-126.459071778, std_err:0.000304136908245, r_value:0.999999998974, p_value:3.88058937485e-49\n"
     ]
    }
   ],
   "source": [
    "t1, ttv1 = ttv_from_times(p1tpe)\n",
    "t2, ttv2 = ttv_from_times(p2tpe)"
   ]
  },
  {
   "cell_type": "code",
   "execution_count": 103,
   "metadata": {},
   "outputs": [
    {
     "data": {
      "text/plain": [
       "[<matplotlib.lines.Line2D at 0x1123cf4d0>]"
      ]
     },
     "execution_count": 103,
     "metadata": {},
     "output_type": "execute_result"
    },
    {
     "data": {
      "image/png": "[encoded data removed]",
      "text/plain": [
       "<matplotlib.figure.Figure at 0x1a14575ed0>"
      ]
     },
     "metadata": {},
     "output_type": "display_data"
    }
   ],
   "source": [
    "fig, ax = plt.subplots(2,1,figsize=(15,10))\n",
    "ax[0].plot(t1,ttv1, 'ro')\n",
    "ax[1].plot(t2,ttv2, 'ro')"
   ]
  },
  {
   "cell_type": "code",
   "execution_count": 110,
   "metadata": {},
   "outputs": [
    {
     "name": "stdout",
     "output_type": "stream",
     "text": [
      "Results from linear regression are... Slope:10.9590630766, Intercept:-189.534066226, std_err:0.00303882732469, r_value:0.999998039332, p_value:1.50863961766e-139\n",
      "Results from linear regression are... Slope:22.2587874598, Intercept:-171.420859197, std_err:0.00067015864225, r_value:0.999999989576, p_value:7.68737043241e-90\n"
     ]
    }
   ],
   "source": [
    "t1, ttv1 = ttv_from_times(p1tpe)\n",
    "t2, ttv2 = ttv_from_times(p2tpe)"
   ]
  },
  {
   "cell_type": "code",
   "execution_count": 111,
   "metadata": {},
   "outputs": [
    {
     "data": {
      "text/plain": [
       "[<matplotlib.lines.Line2D at 0x10edc9250>]"
      ]
     },
     "execution_count": 111,
     "metadata": {},
     "output_type": "execute_result"
    },
    {
     "data": {
      "image/png": "[encoded data removed]",
      "text/plain": [
       "<matplotlib.figure.Figure at 0x1a14923590>"
      ]
     },
     "metadata": {},
     "output_type": "display_data"
    }
   ],
   "source": [
    "fig, ax = plt.subplots(2,1,figsize=(15,10))\n",
    "ax[0].plot(t1,ttv1, 'ro')\n",
    "ax[1].plot(t2,ttv2, 'ro')"
   ]
  },
  {
   "cell_type": "code",
   "execution_count": null,
   "metadata": {
    "collapsed": true
   },
   "outputs": [],
   "source": []
  }
 ],
 "metadata": {
  "kernelspec": {
   "display_name": "Python 2",
   "language": "python",
   "name": "python2"
  },
  "language_info": {
   "codemirror_mode": {
    "name": "ipython",
    "version": 2
   },
   "file_extension": ".py",
   "mimetype": "text/x-python",
   "name": "python",
   "nbconvert_exporter": "python",
   "pygments_lexer": "ipython2",
   "version": "2.7.13"
  }
 },
 "nbformat": 4,
 "nbformat_minor": 2
}
